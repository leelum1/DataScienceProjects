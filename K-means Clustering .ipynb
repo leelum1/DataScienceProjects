{
 "cells": [
  {
   "cell_type": "markdown",
   "metadata": {},
   "source": [
    "The k-means algorithm is to be used to cluster 300 locations into three clusters, such that the locations in the same cluster are geographically close to each other. I am using the KMeans function from the sklearn library"
   ]
  },
  {
   "cell_type": "code",
   "execution_count": 1,
   "metadata": {},
   "outputs": [],
   "source": [
    "from sklearn.cluster import KMeans"
   ]
  },
  {
   "cell_type": "code",
   "execution_count": 2,
   "metadata": {
    "scrolled": true
   },
   "outputs": [
    {
     "data": {
      "text/plain": [
       "[[-112.0707922, 33.4516246], [-112.0655423, 33.4492979]]"
      ]
     },
     "execution_count": 2,
     "metadata": {},
     "output_type": "execute_result"
    }
   ],
   "source": [
    "places = []    #I want a list of lists\n",
    "\n",
    "with open('places.txt') as f:\n",
    "    content = f.readlines()\n",
    "\n",
    "content = [x.strip() for x in content]     #to remove newline characters\n",
    "\n",
    "for x in content:                          #to convert each line to a list\n",
    "    temp = [float(y) for y in x.split(',')]\n",
    "    places.append(temp)\n",
    "    \n",
    "places[0:2]"
   ]
  },
  {
   "cell_type": "code",
   "execution_count": 3,
   "metadata": {},
   "outputs": [
    {
     "data": {
      "text/plain": [
       "300"
      ]
     },
     "execution_count": 3,
     "metadata": {},
     "output_type": "execute_result"
    }
   ],
   "source": [
    "len(places)"
   ]
  },
  {
   "cell_type": "code",
   "execution_count": 4,
   "metadata": {},
   "outputs": [],
   "source": [
    "kmeans = KMeans(n_clusters=3).fit(places)    #https://scikit-learn.org/stable/modules/generated/sklearn.cluster.KMeans.html"
   ]
  },
  {
   "cell_type": "code",
   "execution_count": 5,
   "metadata": {},
   "outputs": [
    {
     "data": {
      "text/plain": [
       "array([1, 1, 1, 1, 0, 0, 2, 1, 1, 2, 1, 2, 0, 1, 2, 2, 2, 1, 2, 0, 0, 0,\n",
       "       0, 2, 1, 0, 1, 0, 1, 1, 0, 2, 1, 1, 1, 2, 0, 1, 0, 2, 2, 2, 2, 2,\n",
       "       2, 0, 1, 2, 1, 1, 0, 2, 1, 2, 0, 2, 1, 2, 0, 2, 1, 0, 2, 1, 0, 2,\n",
       "       2, 1, 0, 2, 0, 1, 2, 0, 1, 1, 1, 2, 0, 1, 1, 2, 1, 0, 1, 1, 0, 1,\n",
       "       0, 1, 0, 0, 1, 0, 0, 0, 2, 2, 1, 1, 1, 0, 1, 1, 2, 2, 1, 0, 1, 1,\n",
       "       0, 2, 1, 0, 1, 1, 0, 1, 0, 0, 2, 2, 1, 0, 2, 0, 2, 0, 2, 0, 2, 0,\n",
       "       2, 1, 1, 0, 0, 1, 1, 0, 2, 2, 1, 0, 2, 2, 2, 1, 2, 2, 0, 2, 2, 0,\n",
       "       0, 0, 0, 0, 2, 2, 0, 1, 0, 1, 2, 0, 0, 0, 0, 0, 0, 1, 1, 2, 2, 1,\n",
       "       0, 2, 2, 0, 1, 0, 2, 2, 0, 2, 2, 0, 1, 0, 2, 2, 1, 1, 1, 2, 1, 1,\n",
       "       2, 1, 0, 1, 2, 1, 0, 2, 1, 0, 2, 2, 0, 2, 2, 1, 0, 0, 1, 0, 1, 0,\n",
       "       1, 0, 0, 0, 2, 2, 2, 1, 2, 1, 1, 2, 2, 0, 0, 2, 1, 2, 1, 2, 1, 1,\n",
       "       2, 2, 2, 2, 2, 2, 2, 1, 2, 2, 0, 0, 0, 0, 2, 1, 2, 1, 0, 1, 2, 0,\n",
       "       0, 1, 0, 1, 0, 1, 0, 2, 1, 2, 0, 0, 1, 1, 0, 0, 2, 2, 2, 2, 0, 0,\n",
       "       2, 0, 0, 1, 0, 1, 2, 1, 0, 1, 1, 1, 0, 1])"
      ]
     },
     "execution_count": 5,
     "metadata": {},
     "output_type": "execute_result"
    }
   ],
   "source": [
    "labels = kmeans.labels_\n",
    "labels"
   ]
  },
  {
   "cell_type": "markdown",
   "metadata": {},
   "source": [
    "Awesome, now to format it properly and write to file"
   ]
  },
  {
   "cell_type": "code",
   "execution_count": 6,
   "metadata": {},
   "outputs": [
    {
     "data": {
      "text/plain": [
       "[[0, 1], [1, 1], [2, 1], [3, 1], [4, 0]]"
      ]
     },
     "execution_count": 6,
     "metadata": {},
     "output_type": "execute_result"
    }
   ],
   "source": [
    "clusters = []\n",
    "\n",
    "for c, value in enumerate(labels):\n",
    "    item = [c,value]\n",
    "    clusters.append(item)\n",
    "    \n",
    "clusters[0:5]"
   ]
  },
  {
   "cell_type": "code",
   "execution_count": 7,
   "metadata": {},
   "outputs": [],
   "source": [
    "with open('clusters.txt', 'w') as f:\n",
    "    for x in clusters:\n",
    "        f.write('{} {}\\n'.format(x[0], x[1]))"
   ]
  },
  {
   "cell_type": "markdown",
   "metadata": {},
   "source": [
    "Success!"
   ]
  },
  {
   "cell_type": "code",
   "execution_count": null,
   "metadata": {},
   "outputs": [],
   "source": []
  }
 ],
 "metadata": {
  "kernelspec": {
   "display_name": "Python 3",
   "language": "python",
   "name": "python3"
  },
  "language_info": {
   "codemirror_mode": {
    "name": "ipython",
    "version": 3
   },
   "file_extension": ".py",
   "mimetype": "text/x-python",
   "name": "python",
   "nbconvert_exporter": "python",
   "pygments_lexer": "ipython3",
   "version": "3.6.5"
  }
 },
 "nbformat": 4,
 "nbformat_minor": 2
}
