{
 "cells": [
  {
   "cell_type": "markdown",
   "metadata": {},
   "source": [
    "This assignment is about the Apriori algorithm. The Apriori algorithm is used to find the freqeunt itemsets in a database. For this assignment, provided input file (\"categories.txt\") consists of the category lists of 77,185 places in the US. Each line corresponds to the category list of one place, where the list consists of a number of category instances that are separated by semicolons - Local Services;IT Services & Computer Repair.\n",
    "\n",
    "The relative minimum support is 0.01 for the 77,185 category lists, which means that all the category sets that have an absolute support larger than 771 are to be extracted."
   ]
  },
  {
   "cell_type": "markdown",
   "metadata": {},
   "source": [
    "The first step is to import the libraries to be used."
   ]
  },
  {
   "cell_type": "code",
   "execution_count": 1,
   "metadata": {},
   "outputs": [],
   "source": [
    "from efficient_apriori import apriori"
   ]
  },
  {
   "cell_type": "markdown",
   "metadata": {},
   "source": [
    "Next we want to read in the data into some structure. I think a list of lists is ok for now"
   ]
  },
  {
   "cell_type": "code",
   "execution_count": 2,
   "metadata": {},
   "outputs": [
    {
     "data": {
      "text/plain": [
       "[['Breakfast & Brunch', 'American (Traditional)', 'Restaurants'],\n",
       " ['Sandwiches', 'Restaurants'],\n",
       " ['Local Services', 'IT Services & Computer Repair']]"
      ]
     },
     "execution_count": 2,
     "metadata": {},
     "output_type": "execute_result"
    }
   ],
   "source": [
    "places = []\n",
    "\n",
    "with open('categories.txt') as f:\n",
    "    content = f.readlines()\n",
    "\n",
    "content = [x.strip() for x in content]     #to remove newline characters\n",
    "\n",
    "for x in content:                          #to convert each line to a list\n",
    "    temp = x.split(';')\n",
    "    places.append(temp)\n",
    "    \n",
    "places[0:3]"
   ]
  },
  {
   "cell_type": "markdown",
   "metadata": {},
   "source": [
    "Looks good. Now to check we have the right amount of places."
   ]
  },
  {
   "cell_type": "code",
   "execution_count": 3,
   "metadata": {},
   "outputs": [
    {
     "data": {
      "text/plain": [
       "77185"
      ]
     },
     "execution_count": 3,
     "metadata": {},
     "output_type": "execute_result"
    }
   ],
   "source": [
    "len(places)"
   ]
  },
  {
   "cell_type": "markdown",
   "metadata": {},
   "source": [
    "Ok in business now. Can use the apriori algorithm now"
   ]
  },
  {
   "cell_type": "code",
   "execution_count": 4,
   "metadata": {},
   "outputs": [
    {
     "data": {
      "text/plain": [
       "50"
      ]
     },
     "execution_count": 4,
     "metadata": {},
     "output_type": "execute_result"
    }
   ],
   "source": [
    "results = list(apriori(places, min_support=.01))\n",
    "len(results[0][1])"
   ]
  },
  {
   "cell_type": "code",
   "execution_count": 8,
   "metadata": {},
   "outputs": [
    {
     "data": {
      "text/plain": [
       "[{1: {('Active Life',): 3103,\n",
       "   ('American (New)',): 1593,\n",
       "   ('American (Traditional)',): 2416,\n",
       "   ('Arts & Entertainment',): 2271,\n",
       "   ('Auto Repair',): 1716,\n",
       "   ('Automotive',): 4208,\n",
       "   ('Bakeries',): 1115,\n",
       "   ('Bars',): 4328,\n",
       "   ('Beauty & Spas',): 6583,\n",
       "   ('Breakfast & Brunch',): 1369,\n",
       "   ('Burgers',): 1774,\n",
       "   ('Cafes',): 1002,\n",
       "   ('Chinese',): 1629,\n",
       "   ('Coffee & Tea',): 2199,\n",
       "   ('Dentists',): 1195,\n",
       "   ('Doctors',): 1694,\n",
       "   ('Event Planning & Services',): 2975,\n",
       "   ('Fashion',): 3078,\n",
       "   ('Fast Food',): 2851,\n",
       "   ('Financial Services',): 875,\n",
       "   ('Fitness & Instruction',): 1442,\n",
       "   ('Food',): 9250,\n",
       "   ('General Dentistry',): 823,\n",
       "   ('Grocery',): 1424,\n",
       "   ('Hair Salons',): 2091,\n",
       "   ('Health & Medical',): 5121,\n",
       "   ('Home & Garden',): 1586,\n",
       "   ('Home Services',): 4785,\n",
       "   ('Hotels',): 1431,\n",
       "   ('Hotels & Travel',): 2495,\n",
       "   ('Ice Cream & Frozen Yogurt',): 1018,\n",
       "   ('Italian',): 1848,\n",
       "   ('Japanese',): 848,\n",
       "   ('Local Services',): 3468,\n",
       "   ('Mexican',): 2515,\n",
       "   ('Nail Salons',): 1667,\n",
       "   ('Nightlife',): 5088,\n",
       "   ('Pet Services',): 870,\n",
       "   ('Pets',): 1497,\n",
       "   ('Pizza',): 2657,\n",
       "   ('Professional Services',): 1025,\n",
       "   ('Pubs',): 874,\n",
       "   ('Real Estate',): 1424,\n",
       "   ('Restaurants',): 25071,\n",
       "   ('Sandwiches',): 2364,\n",
       "   ('Shopping',): 11233,\n",
       "   ('Specialty Food',): 1150,\n",
       "   ('Sports Bars',): 818,\n",
       "   ('Sushi Bars',): 798,\n",
       "   (\"Women's Clothing\",): 1138},\n",
       "  2: {('Active Life', 'Fitness & Instruction'): 1442,\n",
       "   ('American (New)', 'Restaurants'): 1593,\n",
       "   ('American (Traditional)', 'Restaurants'): 2416,\n",
       "   ('Auto Repair', 'Automotive'): 1716,\n",
       "   ('Bakeries', 'Food'): 1115,\n",
       "   ('Bars', 'Nightlife'): 4328,\n",
       "   ('Bars', 'Pubs'): 874,\n",
       "   ('Bars', 'Restaurants'): 2423,\n",
       "   ('Bars', 'Sports Bars'): 818,\n",
       "   ('Beauty & Spas', 'Hair Salons'): 2091,\n",
       "   ('Beauty & Spas', 'Nail Salons'): 1667,\n",
       "   ('Breakfast & Brunch', 'Restaurants'): 1369,\n",
       "   ('Burgers', 'Fast Food'): 774,\n",
       "   ('Burgers', 'Restaurants'): 1774,\n",
       "   ('Cafes', 'Restaurants'): 1002,\n",
       "   ('Chinese', 'Restaurants'): 1629,\n",
       "   ('Coffee & Tea', 'Food'): 2199,\n",
       "   ('Dentists', 'General Dentistry'): 823,\n",
       "   ('Dentists', 'Health & Medical'): 1195,\n",
       "   ('Doctors', 'Health & Medical'): 1694,\n",
       "   ('Event Planning & Services', 'Hotels'): 1431,\n",
       "   ('Event Planning & Services', 'Hotels & Travel'): 1471,\n",
       "   ('Fashion', 'Shopping'): 3078,\n",
       "   ('Fashion', \"Women's Clothing\"): 1138,\n",
       "   ('Fast Food', 'Restaurants'): 2851,\n",
       "   ('Food', 'Grocery'): 1424,\n",
       "   ('Food', 'Ice Cream & Frozen Yogurt'): 1018,\n",
       "   ('Food', 'Restaurants'): 2101,\n",
       "   ('Food', 'Specialty Food'): 1150,\n",
       "   ('General Dentistry', 'Health & Medical'): 823,\n",
       "   ('Home & Garden', 'Shopping'): 1586,\n",
       "   ('Home Services', 'Real Estate'): 1424,\n",
       "   ('Hotels', 'Hotels & Travel'): 1431,\n",
       "   ('Italian', 'Restaurants'): 1848,\n",
       "   ('Japanese', 'Restaurants'): 848,\n",
       "   ('Mexican', 'Restaurants'): 2515,\n",
       "   ('Nightlife', 'Pubs'): 874,\n",
       "   ('Nightlife', 'Restaurants'): 2533,\n",
       "   ('Nightlife', 'Sports Bars'): 818,\n",
       "   ('Pet Services', 'Pets'): 870,\n",
       "   ('Pizza', 'Restaurants'): 2657,\n",
       "   ('Restaurants', 'Sandwiches'): 2364,\n",
       "   ('Restaurants', 'Sushi Bars'): 798,\n",
       "   ('Shopping', \"Women's Clothing\"): 1138},\n",
       "  3: {('Bars', 'Nightlife', 'Pubs'): 874,\n",
       "   ('Bars', 'Nightlife', 'Restaurants'): 2423,\n",
       "   ('Bars', 'Nightlife', 'Sports Bars'): 818,\n",
       "   ('Burgers', 'Fast Food', 'Restaurants'): 774,\n",
       "   ('Dentists', 'General Dentistry', 'Health & Medical'): 823,\n",
       "   ('Event Planning & Services', 'Hotels', 'Hotels & Travel'): 1431,\n",
       "   ('Fashion', 'Shopping', \"Women's Clothing\"): 1138}},\n",
       " [{Fitness & Instruction} -> {Active Life},\n",
       "  {American (New)} -> {Restaurants},\n",
       "  {American (Traditional)} -> {Restaurants},\n",
       "  {Auto Repair} -> {Automotive},\n",
       "  {Bakeries} -> {Food},\n",
       "  {Nightlife} -> {Bars},\n",
       "  {Bars} -> {Nightlife},\n",
       "  {Pubs} -> {Bars},\n",
       "  {Bars} -> {Restaurants},\n",
       "  {Sports Bars} -> {Bars},\n",
       "  {Hair Salons} -> {Beauty & Spas},\n",
       "  {Nail Salons} -> {Beauty & Spas},\n",
       "  {Breakfast & Brunch} -> {Restaurants},\n",
       "  {Burgers} -> {Restaurants},\n",
       "  {Cafes} -> {Restaurants},\n",
       "  {Chinese} -> {Restaurants},\n",
       "  {Coffee & Tea} -> {Food},\n",
       "  {General Dentistry} -> {Dentists},\n",
       "  {Dentists} -> {General Dentistry},\n",
       "  {Dentists} -> {Health & Medical},\n",
       "  {Doctors} -> {Health & Medical},\n",
       "  {Hotels} -> {Event Planning & Services},\n",
       "  {Hotels & Travel} -> {Event Planning & Services},\n",
       "  {Fashion} -> {Shopping},\n",
       "  {Women's Clothing} -> {Fashion},\n",
       "  {Fast Food} -> {Restaurants},\n",
       "  {Grocery} -> {Food},\n",
       "  {Ice Cream & Frozen Yogurt} -> {Food},\n",
       "  {Specialty Food} -> {Food},\n",
       "  {General Dentistry} -> {Health & Medical},\n",
       "  {Home & Garden} -> {Shopping},\n",
       "  {Real Estate} -> {Home Services},\n",
       "  {Hotels & Travel} -> {Hotels},\n",
       "  {Hotels} -> {Hotels & Travel},\n",
       "  {Italian} -> {Restaurants},\n",
       "  {Japanese} -> {Restaurants},\n",
       "  {Mexican} -> {Restaurants},\n",
       "  {Pubs} -> {Nightlife},\n",
       "  {Sports Bars} -> {Nightlife},\n",
       "  {Pets} -> {Pet Services},\n",
       "  {Pet Services} -> {Pets},\n",
       "  {Pizza} -> {Restaurants},\n",
       "  {Sandwiches} -> {Restaurants},\n",
       "  {Sushi Bars} -> {Restaurants},\n",
       "  {Women's Clothing} -> {Shopping},\n",
       "  {Nightlife, Pubs} -> {Bars},\n",
       "  {Bars, Pubs} -> {Nightlife},\n",
       "  {Pubs} -> {Bars, Nightlife},\n",
       "  {Nightlife, Restaurants} -> {Bars},\n",
       "  {Bars, Restaurants} -> {Nightlife},\n",
       "  {Bars, Nightlife} -> {Restaurants},\n",
       "  {Bars} -> {Nightlife, Restaurants},\n",
       "  {Nightlife, Sports Bars} -> {Bars},\n",
       "  {Bars, Sports Bars} -> {Nightlife},\n",
       "  {Sports Bars} -> {Bars, Nightlife},\n",
       "  {Burgers, Fast Food} -> {Restaurants},\n",
       "  {General Dentistry, Health & Medical} -> {Dentists},\n",
       "  {Dentists, Health & Medical} -> {General Dentistry},\n",
       "  {Dentists, General Dentistry} -> {Health & Medical},\n",
       "  {General Dentistry} -> {Dentists, Health & Medical},\n",
       "  {Dentists} -> {General Dentistry, Health & Medical},\n",
       "  {Hotels, Hotels & Travel} -> {Event Planning & Services},\n",
       "  {Event Planning & Services, Hotels & Travel} -> {Hotels},\n",
       "  {Event Planning & Services, Hotels} -> {Hotels & Travel},\n",
       "  {Hotels & Travel} -> {Event Planning & Services, Hotels},\n",
       "  {Hotels} -> {Event Planning & Services, Hotels & Travel},\n",
       "  {Shopping, Women's Clothing} -> {Fashion},\n",
       "  {Fashion, Women's Clothing} -> {Shopping},\n",
       "  {Women's Clothing} -> {Fashion, Shopping}]]"
      ]
     },
     "execution_count": 8,
     "metadata": {},
     "output_type": "execute_result"
    }
   ],
   "source": [
    "results"
   ]
  },
  {
   "cell_type": "markdown",
   "metadata": {},
   "source": [
    "There are 50 frequent categories with a relative minimum support of 0.01/absolute support of 771. No to write to the text file."
   ]
  },
  {
   "cell_type": "code",
   "execution_count": 5,
   "metadata": {},
   "outputs": [],
   "source": [
    "with open('patterns.txt', 'w') as f:\n",
    "    for x in results[0][1]:\n",
    "        f.write('{}:{}\\n'.format(results[0][1][x], x[0]))\n",
    "        \n",
    "    for x in results[0][2]:\n",
    "        f.write('{}:{};{}\\n'.format(results[0][2][x], x[0], x[1]))\n",
    "        \n",
    "    for x in results[0][3]:\n",
    "        f.write('{}:{};{};{}\\n'.format(results[0][3][x], x[0], x[1], x[2]))"
   ]
  }
 ],
 "metadata": {
  "kernelspec": {
   "display_name": "Python 3",
   "language": "python",
   "name": "python3"
  },
  "language_info": {
   "codemirror_mode": {
    "name": "ipython",
    "version": 3
   },
   "file_extension": ".py",
   "mimetype": "text/x-python",
   "name": "python",
   "nbconvert_exporter": "python",
   "pygments_lexer": "ipython3",
   "version": "3.6.5"
  }
 },
 "nbformat": 4,
 "nbformat_minor": 2
}
