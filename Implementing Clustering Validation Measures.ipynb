{
 "cells": [
  {
   "cell_type": "markdown",
   "metadata": {},
   "source": [
    "In this assignment, you will be implementing two clustering validation measures: Normalized Mutual Information (NMI) and Jaccard similarity.\n",
    "\n",
    "You will be given one ground-truth clustering (partition) results and five clustering test cases. You need to evaluate the clustering test cases with regard to the ground-truth by NMI and Jaccard measures and submit your measures. You will be graded based on whether your measures are correct. \n",
    "\n",
    "Each clustering result (both ground-truth and test cases) is represented by a file. Each line in a file consists of two integers, separated by a space. The first integer represents the id of a data item, and the second integer represents the id of the cluster which this item belongs to.\n",
    "\n",
    "You need to submit a file titled \"scores.txt\" consisting of 5 lines. Each line contains two float numbers separated by a space. The first number of the i-th line represents the NMI measure you calculated for the i-th test case i (i.e. \"clustering_i.txt\") with regard to the ground-truth given in \"partitions.txt\", and the second number of the i-th line represents the Jaccard measure you calculated for the i-th test case. "
   ]
  },
  {
   "cell_type": "code",
   "execution_count": 1,
   "metadata": {},
   "outputs": [],
   "source": [
    "from sklearn.metrics import jaccard_similarity_score\n",
    "from sklearn.metrics import normalized_mutual_info_score"
   ]
  },
  {
   "cell_type": "code",
   "execution_count": 2,
   "metadata": {},
   "outputs": [],
   "source": [
    "#https://gist.github.com/ramhiser/c990481c387058f3cce7\n",
    "\n",
    "import itertools \n",
    "\n",
    "def jaccard(labels1, labels2):\n",
    "    \"\"\"\n",
    "    Computes the Jaccard similarity between two sets of clustering labels.\n",
    "    The value returned is between 0 and 1, inclusively. A value of 1 indicates\n",
    "    perfect agreement between two clustering algorithms, whereas a value of 0\n",
    "    indicates no agreement. For details on the Jaccard index, see:\n",
    "    http://en.wikipedia.org/wiki/Jaccard_index\n",
    "    Example:\n",
    "    labels1 = [1, 2, 2, 3]\n",
    "    labels2 = [3, 4, 4, 4]\n",
    "    print jaccard(labels1, labels2)\n",
    "    @param labels1 iterable of cluster labels\n",
    "    @param labels2 iterable of cluster labels\n",
    "    @return the Jaccard similarity value\n",
    "    \"\"\"\n",
    "    n11 = n10 = n01 = 0\n",
    "    n = len(labels1)\n",
    "    # TODO: Throw exception if len(labels1) != len(labels2)\n",
    "    for i, j in itertools.combinations(range(n), 2):\n",
    "        comembership1 = labels1[i] == labels1[j]\n",
    "        comembership2 = labels2[i] == labels2[j]\n",
    "        if comembership1 and comembership2:\n",
    "            n11 += 1\n",
    "        elif comembership1 and not comembership2:\n",
    "            n10 += 1\n",
    "        elif not comembership1 and comembership2:\n",
    "            n01 += 1\n",
    "    return float(n11) / (n11 + n10 + n01)"
   ]
  },
  {
   "cell_type": "code",
   "execution_count": 3,
   "metadata": {},
   "outputs": [
    {
     "data": {
      "text/plain": [
       "[2, 0, 2, 1, 2]"
      ]
     },
     "execution_count": 3,
     "metadata": {},
     "output_type": "execute_result"
    }
   ],
   "source": [
    "partitions = []\n",
    "\n",
    "with open('partitions.txt') as f:\n",
    "    content = f.readlines()\n",
    "\n",
    "content = [x.strip() for x in content]     #to remove newline characters\n",
    "\n",
    "for x in content:                          #to convert each line to a list\n",
    "    temp = [int(y) for y in x.split(' ')]\n",
    "    partitions.append(temp[1])\n",
    "    \n",
    "partitions[0:5]"
   ]
  },
  {
   "cell_type": "code",
   "execution_count": 4,
   "metadata": {},
   "outputs": [
    {
     "data": {
      "text/plain": [
       "[[0.8896248, 0.911689],\n",
       " [0.6456368, 0.6794843],\n",
       " [0.3915437, 0.4649305],\n",
       " [0.7642771, 0.8005979],\n",
       " [0.7336804, 0.5975855]]"
      ]
     },
     "execution_count": 4,
     "metadata": {},
     "output_type": "execute_result"
    }
   ],
   "source": [
    "scores = []\n",
    "\n",
    "for x in range (1,6): \n",
    "    with open('clustering_'+str(x)+'.txt') as f:\n",
    "        content = f.readlines()\n",
    "\n",
    "    content = [x.strip() for x in content]     #to remove newline characters\n",
    "    \n",
    "    cluster = []\n",
    "    for x in content:                          #to convert each line to a list\n",
    "        temp = [int(y) for y in x.split(' ')]\n",
    "        cluster.append(temp[1])\n",
    "    \n",
    "    NMI = normalized_mutual_info_score(partitions, cluster, average_method='arithmetic')\n",
    "    jac = jaccard(partitions, cluster)\n",
    "    \n",
    "    scores.append([round(NMI,7), round(jac,7)])\n",
    "\n",
    "scores"
   ]
  },
  {
   "cell_type": "code",
   "execution_count": 5,
   "metadata": {},
   "outputs": [],
   "source": [
    "with open('scores.txt', 'w') as f:\n",
    "    for x in scores:\n",
    "        f.write('{} {}\\n'.format(x[0], x[1]))"
   ]
  },
  {
   "cell_type": "code",
   "execution_count": 6,
   "metadata": {},
   "outputs": [],
   "source": [
    "#sklearn_jac = jaccard_similarity_score(partitions, cluster)"
   ]
  },
  {
   "cell_type": "code",
   "execution_count": null,
   "metadata": {},
   "outputs": [],
   "source": []
  }
 ],
 "metadata": {
  "kernelspec": {
   "display_name": "Python 3",
   "language": "python",
   "name": "python3"
  },
  "language_info": {
   "codemirror_mode": {
    "name": "ipython",
    "version": 3
   },
   "file_extension": ".py",
   "mimetype": "text/x-python",
   "name": "python",
   "nbconvert_exporter": "python",
   "pygments_lexer": "ipython3",
   "version": "3.6.5"
  }
 },
 "nbformat": 4,
 "nbformat_minor": 2
}
